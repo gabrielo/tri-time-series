{
 "cells": [
  {
   "cell_type": "code",
   "execution_count": null,
   "metadata": {},
   "outputs": [],
   "source": [
    "URL_TMPL ='http://ofmpub.epa.gov/enviro/efservice/MV_TRI_BASIC_DOWNLOAD/year/=/%s/fname/TRI_%s_US.csv/CSV'\n",
    "FNAME_TMPL = 'TRI_%s_US.csv'\n",
    "for year in range(1987, 2016):\n",
    "    url = URL_TMPL % (year, year)\n",
    "    fname = FNAME_TMPL % year\n",
    "    cmd = \"wget %s -O %s\" % (url, fname)\n",
    "    !$cmd\n",
    "    \n"
   ]
  },
  {
   "cell_type": "code",
   "execution_count": null,
   "metadata": {
    "collapsed": true
   },
   "outputs": [],
   "source": []
  }
 ],
 "metadata": {
  "kernelspec": {
   "display_name": "Python 2",
   "language": "python",
   "name": "python2"
  },
  "language_info": {
   "codemirror_mode": {
    "name": "ipython",
    "version": 2
   },
   "file_extension": ".py",
   "mimetype": "text/x-python",
   "name": "python",
   "nbconvert_exporter": "python",
   "pygments_lexer": "ipython2",
   "version": "2.7.13"
  }
 },
 "nbformat": 4,
 "nbformat_minor": 2
}
